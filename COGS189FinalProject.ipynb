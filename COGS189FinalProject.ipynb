{
 "cells": [
  {
   "cell_type": "markdown",
   "metadata": {},
   "source": [
    "# Final Project\n",
    "## COGS 189, Winter 2021\n",
    "## Yleia Sanchez"
   ]
  },
  {
   "cell_type": "markdown",
   "metadata": {},
   "source": [
    "For this project, my goal was to examine how well different classification methods were at classifying brain waves. I wanted to examine different classification methods because I was interested in learning how much classifications methods can vary when being used on the same dataset.\n",
    "\n",
    "Because this class focuses on brain-computer interfaces (BCI), I aimed at chosing a dataset that would help me understand how we use eeg data in a relatively straightforward way. \n",
    "The dataset I chose to uses measured participants brain activities while completing a number of tasks using EEG. On two ends of this spectrum, we have participants doing math versus participants relaxing.\n",
    "\n",
    "For this project, we are going to focus mainly on the classification of our 'relax' signals by comparing k-nearest neighbors (KNN), decision trees, extra trees, random forests, gadient boost, and support vector classification (SVC) from the sklearn library in order to find the most accurate classification method.\n",
    "\n",
    "dataset: https://www.kaggle.com/berkeley-biosense/synchronized-brainwave-dataset"
   ]
  },
  {
   "cell_type": "markdown",
   "metadata": {},
   "source": [
    "all code derived from:\n",
    "https://www.kaggle.com/elsehow/classifying-relaxation-versus-doing-math\n",
    "and \n",
    "https://www.kaggle.com/seaneuron/math-relax-prediction-with-different-classifiers\n",
    "\n",
    "## Setup"
   ]
  },
  {
   "cell_type": "code",
   "execution_count": 4,
   "metadata": {},
   "outputs": [],
   "source": [
    "import json\n",
    "import pandas as pd\n",
    "\n",
    "df = pd.read_csv(\"eeg-data.csv\")\n",
    "\n",
    "df.raw_values = df.raw_values.map(json.loads)\n",
    "df.eeg_power = df.eeg_power.map(json.loads)\n",
    "\n",
    "relax = df[df.label == 'relax']\n",
    "math = df[(df.label == 'math1') |\n",
    "          (df.label == 'math2') |\n",
    "          (df.label == 'math3') |\n",
    "          (df.label == 'math4') |\n",
    "          (df.label == 'math5') |\n",
    "          (df.label == 'math6') |\n",
    "          (df.label == 'math7') |\n",
    "          (df.label == 'math8') |\n",
    "          (df.label == 'math9') |\n",
    "          (df.label == 'math10') |\n",
    "          (df.label == 'math11') |\n",
    "          (df.label == 'math12') ]\n",
    "\n",
    "def vectorLabels(List1, List2):\n",
    "    x = List1 + List2\n",
    "    def Label(L):\n",
    "        return lambda x: L\n",
    "    y = list(map(Label(0), List1)) + list(map(Label(1), List2))\n",
    "    return x, y"
   ]
  },
  {
   "cell_type": "code",
   "execution_count": 5,
   "metadata": {
    "scrolled": true
   },
   "outputs": [
    {
     "data": {
      "text/html": [
       "<div>\n",
       "<style scoped>\n",
       "    .dataframe tbody tr th:only-of-type {\n",
       "        vertical-align: middle;\n",
       "    }\n",
       "\n",
       "    .dataframe tbody tr th {\n",
       "        vertical-align: top;\n",
       "    }\n",
       "\n",
       "    .dataframe thead th {\n",
       "        text-align: right;\n",
       "    }\n",
       "</style>\n",
       "<table border=\"1\" class=\"dataframe\">\n",
       "  <thead>\n",
       "    <tr style=\"text-align: right;\">\n",
       "      <th></th>\n",
       "      <th>count</th>\n",
       "      <th>mean</th>\n",
       "      <th>std</th>\n",
       "      <th>min</th>\n",
       "      <th>25%</th>\n",
       "      <th>50%</th>\n",
       "      <th>75%</th>\n",
       "      <th>max</th>\n",
       "    </tr>\n",
       "  </thead>\n",
       "  <tbody>\n",
       "    <tr>\n",
       "      <th>delta</th>\n",
       "      <td>1870.0</td>\n",
       "      <td>251826.381818</td>\n",
       "      <td>448237.301788</td>\n",
       "      <td>792.0</td>\n",
       "      <td>16553.00</td>\n",
       "      <td>62783.5</td>\n",
       "      <td>263056.25</td>\n",
       "      <td>3240799.0</td>\n",
       "    </tr>\n",
       "    <tr>\n",
       "      <th>theta</th>\n",
       "      <td>1870.0</td>\n",
       "      <td>61600.065775</td>\n",
       "      <td>107685.398107</td>\n",
       "      <td>1159.0</td>\n",
       "      <td>13551.50</td>\n",
       "      <td>28350.0</td>\n",
       "      <td>62940.50</td>\n",
       "      <td>1416472.0</td>\n",
       "    </tr>\n",
       "    <tr>\n",
       "      <th>low_alpha</th>\n",
       "      <td>1870.0</td>\n",
       "      <td>26878.933155</td>\n",
       "      <td>42728.938431</td>\n",
       "      <td>266.0</td>\n",
       "      <td>5431.00</td>\n",
       "      <td>13161.0</td>\n",
       "      <td>30288.75</td>\n",
       "      <td>586468.0</td>\n",
       "    </tr>\n",
       "    <tr>\n",
       "      <th>high_alpha</th>\n",
       "      <td>1870.0</td>\n",
       "      <td>22633.841711</td>\n",
       "      <td>32244.913432</td>\n",
       "      <td>151.0</td>\n",
       "      <td>5665.75</td>\n",
       "      <td>12452.5</td>\n",
       "      <td>26788.25</td>\n",
       "      <td>694417.0</td>\n",
       "    </tr>\n",
       "    <tr>\n",
       "      <th>low_beta</th>\n",
       "      <td>1870.0</td>\n",
       "      <td>12294.291444</td>\n",
       "      <td>15694.896534</td>\n",
       "      <td>295.0</td>\n",
       "      <td>4451.00</td>\n",
       "      <td>8020.0</td>\n",
       "      <td>14781.50</td>\n",
       "      <td>315512.0</td>\n",
       "    </tr>\n",
       "    <tr>\n",
       "      <th>high_beta</th>\n",
       "      <td>1870.0</td>\n",
       "      <td>11200.815508</td>\n",
       "      <td>12187.141656</td>\n",
       "      <td>205.0</td>\n",
       "      <td>4664.00</td>\n",
       "      <td>7695.5</td>\n",
       "      <td>12873.00</td>\n",
       "      <td>148264.0</td>\n",
       "    </tr>\n",
       "    <tr>\n",
       "      <th>low_gamma</th>\n",
       "      <td>1870.0</td>\n",
       "      <td>6681.974866</td>\n",
       "      <td>10671.456080</td>\n",
       "      <td>86.0</td>\n",
       "      <td>2163.50</td>\n",
       "      <td>3839.0</td>\n",
       "      <td>7019.25</td>\n",
       "      <td>151891.0</td>\n",
       "    </tr>\n",
       "    <tr>\n",
       "      <th>mid_gamma</th>\n",
       "      <td>1870.0</td>\n",
       "      <td>4806.425134</td>\n",
       "      <td>6479.447878</td>\n",
       "      <td>25.0</td>\n",
       "      <td>1664.00</td>\n",
       "      <td>3013.0</td>\n",
       "      <td>5640.25</td>\n",
       "      <td>94695.0</td>\n",
       "    </tr>\n",
       "  </tbody>\n",
       "</table>\n",
       "</div>"
      ],
      "text/plain": [
       "             count           mean            std     min       25%      50%  \\\n",
       "delta       1870.0  251826.381818  448237.301788   792.0  16553.00  62783.5   \n",
       "theta       1870.0   61600.065775  107685.398107  1159.0  13551.50  28350.0   \n",
       "low_alpha   1870.0   26878.933155   42728.938431   266.0   5431.00  13161.0   \n",
       "high_alpha  1870.0   22633.841711   32244.913432   151.0   5665.75  12452.5   \n",
       "low_beta    1870.0   12294.291444   15694.896534   295.0   4451.00   8020.0   \n",
       "high_beta   1870.0   11200.815508   12187.141656   205.0   4664.00   7695.5   \n",
       "low_gamma   1870.0    6681.974866   10671.456080    86.0   2163.50   3839.0   \n",
       "mid_gamma   1870.0    4806.425134    6479.447878    25.0   1664.00   3013.0   \n",
       "\n",
       "                  75%        max  \n",
       "delta       263056.25  3240799.0  \n",
       "theta        62940.50  1416472.0  \n",
       "low_alpha    30288.75   586468.0  \n",
       "high_alpha   26788.25   694417.0  \n",
       "low_beta     14781.50   315512.0  \n",
       "high_beta    12873.00   148264.0  \n",
       "low_gamma     7019.25   151891.0  \n",
       "mid_gamma     5640.25    94695.0  "
      ]
     },
     "execution_count": 5,
     "metadata": {},
     "output_type": "execute_result"
    }
   ],
   "source": [
    "# organization of the training data\n",
    "import numpy as np\n",
    "\n",
    "trainData = pd.DataFrame(columns=[\"delta\", \"theta\", \"low_alpha\", \"high_alpha\", \\\n",
    "                                 \"low_beta\", \"high_beta\", \"low_gamma\", \"mid_gamma\"])\n",
    "for id in pd.unique(math[\"id\"]):\n",
    "    math1 = math[math['id']==id]\n",
    "    relax1 = relax[relax['id']==id]\n",
    "    x, y = vectorLabels(math1.eeg_power.tolist(), relax1.eeg_power.tolist())\n",
    "    x = np.matrix(x)\n",
    "    y = np.array(y)\n",
    "    data = pd.DataFrame(data = x,\n",
    "                        index = y,\n",
    "                        columns = [\"delta\", \"theta\", \"low_alpha\", \"high_alpha\", \\\n",
    "                                 \"low_beta\", \"high_beta\", \"low_gamma\", \"mid_gamma\"])\n",
    "    frames = [trainData, data]\n",
    "    trainData = pd.concat(frames)\n",
    "trainData.describe().T"
   ]
  },
  {
   "cell_type": "code",
   "execution_count": 6,
   "metadata": {},
   "outputs": [
    {
     "data": {
      "text/plain": [
       "<matplotlib.axes._subplots.AxesSubplot at 0x7f7d0c71cc18>"
      ]
     },
     "execution_count": 6,
     "metadata": {},
     "output_type": "execute_result"
    },
    {
     "data": {
      "image/png": "[encoded data removed]",
      "text/plain": [
       "<Figure size 432x288 with 2 Axes>"
      ]
     },
     "metadata": {
      "needs_background": "light"
     },
     "output_type": "display_data"
    }
   ],
   "source": [
    "# plot of training data\n",
    "import seaborn as sns\n",
    "import matplotlib.pyplot as plt\n",
    "\n",
    "corr = trainData.corr()\n",
    "plt.figure()\n",
    "sns.heatmap(corr)"
   ]
  },
  {
   "cell_type": "code",
   "execution_count": 8,
   "metadata": {},
   "outputs": [],
   "source": [
    "# PCA\n",
    "from sklearn.decomposition import PCA\n",
    "from sklearn.preprocessing import LabelEncoder, StandardScaler\n",
    "\n",
    "scaler = StandardScaler()\n",
    "data = scaler.fit_transform(trainData)\n",
    "pca = PCA(n_components = 2)\n",
    "pca_data = pca.fit_transform(data)\n",
    "plot_data = trainData\n",
    "plot_data[\"relax\"] = trainData.index\n",
    "#plt.scatter(pca_data[:, 0], pca_data[:, 1],\\\n",
    "#        c = plot_data[\"relax\"].apply(lambda relax: 'purple' if relax else 'red'))"
   ]
  },
  {
   "cell_type": "code",
   "execution_count": 10,
   "metadata": {},
   "outputs": [
    {
     "data": {
      "text/plain": [
       "(1252, 8)"
      ]
     },
     "execution_count": 10,
     "metadata": {},
     "output_type": "execute_result"
    }
   ],
   "source": [
    "from sklearn.model_selection import train_test_split, cross_val_score\n",
    "\n",
    "xTrain, xTest, yTrain, yTest = train_test_split(\n",
    "       trainData, trainData.index, test_size = 0.33, random_state = 42)\n",
    "xTrain = xTrain.drop(\"relax\", axis = 1)\n",
    "xTest = xTest.drop(\"relax\", axis = 1)\n",
    "xTrain.shape\n",
    "\n",
    "xTrain = xTrain.reset_index(drop = True)\n",
    "xTest = xTest.reset_index(drop = True)\n",
    "xTrain = pd.DataFrame(scaler.fit_transform(xTrain))\n",
    "xTest = pd.DataFrame(scaler.fit_transform(xTest))\n",
    "xTrain.shape"
   ]
  },
  {
   "cell_type": "markdown",
   "metadata": {},
   "source": [
    "# KNN Classification"
   ]
  },
  {
   "cell_type": "code",
   "execution_count": 11,
   "metadata": {},
   "outputs": [],
   "source": [
    "from sklearn.neighbors import KNeighborsClassifier\n",
    "\n",
    "knn = KNeighborsClassifier(n_neighbors=10)"
   ]
  },
  {
   "cell_type": "markdown",
   "metadata": {},
   "source": [
    "# Decision Tree & Extra Trees Classification"
   ]
  },
  {
   "cell_type": "code",
   "execution_count": 14,
   "metadata": {},
   "outputs": [],
   "source": [
    "from sklearn.ensemble import RandomForestClassifier, GradientBoostingClassifier, ExtraTreesClassifier\n",
    "from sklearn.tree import DecisionTreeClassifier\n",
    "\n",
    "dectree = DecisionTreeClassifier(max_depth  = None, min_samples_split = 2)\n",
    "\n",
    "extree = ExtraTreesClassifier(n_estimators = 10, max_depth = None, min_samples_split = 2)"
   ]
  },
  {
   "cell_type": "markdown",
   "metadata": {},
   "source": [
    "# Random Forest Classification"
   ]
  },
  {
   "cell_type": "code",
   "execution_count": 15,
   "metadata": {},
   "outputs": [
    {
     "data": {
      "text/plain": [
       "RandomForestClassifier(bootstrap=True, class_weight=None, criterion='gini',\n",
       "                       max_depth=None, max_features=None, max_leaf_nodes=None,\n",
       "                       min_impurity_decrease=0.0, min_impurity_split=None,\n",
       "                       min_samples_leaf=3, min_samples_split=3,\n",
       "                       min_weight_fraction_leaf=0.0, n_estimators=100,\n",
       "                       n_jobs=-1, oob_score=True, random_state=42, verbose=0,\n",
       "                       warm_start=False)"
      ]
     },
     "execution_count": 15,
     "metadata": {},
     "output_type": "execute_result"
    }
   ],
   "source": [
    "forest = RandomForestClassifier(100, max_features=None, min_samples_split=3, min_samples_leaf=3,\\\n",
    "                                random_state=42, n_jobs=-1, oob_score=True)\n",
    "forest.fit(xTrain, yTrain)"
   ]
  },
  {
   "cell_type": "code",
   "execution_count": 16,
   "metadata": {},
   "outputs": [
    {
     "data": {
      "text/html": [
       "<div>\n",
       "<style scoped>\n",
       "    .dataframe tbody tr th:only-of-type {\n",
       "        vertical-align: middle;\n",
       "    }\n",
       "\n",
       "    .dataframe tbody tr th {\n",
       "        vertical-align: top;\n",
       "    }\n",
       "\n",
       "    .dataframe thead th {\n",
       "        text-align: right;\n",
       "    }\n",
       "</style>\n",
       "<table border=\"1\" class=\"dataframe\">\n",
       "  <thead>\n",
       "    <tr style=\"text-align: right;\">\n",
       "      <th></th>\n",
       "      <th>Importance</th>\n",
       "    </tr>\n",
       "  </thead>\n",
       "  <tbody>\n",
       "    <tr>\n",
       "      <th>delta</th>\n",
       "      <td>0.135621</td>\n",
       "    </tr>\n",
       "    <tr>\n",
       "      <th>high_alpha</th>\n",
       "      <td>0.133487</td>\n",
       "    </tr>\n",
       "    <tr>\n",
       "      <th>low_alpha</th>\n",
       "      <td>0.130687</td>\n",
       "    </tr>\n",
       "    <tr>\n",
       "      <th>high_beta</th>\n",
       "      <td>0.128326</td>\n",
       "    </tr>\n",
       "    <tr>\n",
       "      <th>mid_gamma</th>\n",
       "      <td>0.122169</td>\n",
       "    </tr>\n",
       "    <tr>\n",
       "      <th>low_beta</th>\n",
       "      <td>0.120610</td>\n",
       "    </tr>\n",
       "    <tr>\n",
       "      <th>theta</th>\n",
       "      <td>0.116269</td>\n",
       "    </tr>\n",
       "    <tr>\n",
       "      <th>low_gamma</th>\n",
       "      <td>0.112831</td>\n",
       "    </tr>\n",
       "  </tbody>\n",
       "</table>\n",
       "</div>"
      ],
      "text/plain": [
       "            Importance\n",
       "delta         0.135621\n",
       "high_alpha    0.133487\n",
       "low_alpha     0.130687\n",
       "high_beta     0.128326\n",
       "mid_gamma     0.122169\n",
       "low_beta      0.120610\n",
       "theta         0.116269\n",
       "low_gamma     0.112831"
      ]
     },
     "execution_count": 16,
     "metadata": {},
     "output_type": "execute_result"
    }
   ],
   "source": [
    "features = pd.DataFrame(forest.feature_importances_,\n",
    "                        index=trainData.columns[0:8], \n",
    "                        columns=['Importance']).sort_values(['Importance'], ascending = False)\n",
    "features"
   ]
  },
  {
   "cell_type": "markdown",
   "metadata": {},
   "source": [
    "# Gradient Boost"
   ]
  },
  {
   "cell_type": "code",
   "execution_count": 17,
   "metadata": {},
   "outputs": [],
   "source": [
    "grboost = GradientBoostingClassifier(n_estimators=10, learning_rate=1.0, max_depth=1)"
   ]
  },
  {
   "cell_type": "markdown",
   "metadata": {},
   "source": [
    "# SVC"
   ]
  },
  {
   "cell_type": "code",
   "execution_count": 18,
   "metadata": {},
   "outputs": [],
   "source": [
    "from sklearn.svm import SVC\n",
    "\n",
    "svclf = SVC(random_state = 42)"
   ]
  },
  {
   "cell_type": "markdown",
   "metadata": {},
   "source": [
    "# Comparison Results\n",
    "These comparisons were made by using the cross validation scores of each classifier.\n",
    "This was done by using the cross_val_score function from the sklearn library."
   ]
  },
  {
   "cell_type": "code",
   "execution_count": 19,
   "metadata": {},
   "outputs": [
    {
     "name": "stdout",
     "output_type": "stream",
     "text": [
      "KNeighborsClassifier 0.605910819255054\n",
      "DecisionTreeClassifier 0.597363031233999\n",
      "ExtraTreesClassifier 0.6427667636985808\n",
      "GradientBoostingClassifier 0.6224560288909181\n",
      "SVC 0.6208242259404243\n",
      "RandomForestClassifier 0.6803065655290521\n"
     ]
    }
   ],
   "source": [
    "clfs = [knn, dectree, extree, grboost, svclf, forest]\n",
    "from sklearn.model_selection import StratifiedKFold\n",
    "cv = StratifiedKFold(n_splits = 10)\n",
    "for clf in clfs:\n",
    "    print(type(clf).__name__, np.mean(cross_val_score(clf, xTrain, yTrain, cv=cv, scoring=\"roc_auc\", n_jobs=-1)))"
   ]
  },
  {
   "cell_type": "markdown",
   "metadata": {},
   "source": [
    "# Ordered Results\n",
    "\n",
    "### From my notebook: \n",
    "\n",
    "1. RandomForestClassifier 0.6803065655290521\n",
    "\n",
    "2. ExtraTreesClassifier 0.6427667636985808\n",
    "\n",
    "3. GradientBoostingClassifier 0.6224560288909181\n",
    "\n",
    "4. SVC 0.6208242259404243\n",
    "\n",
    "5. KNeighborsClassifier 0.605910819255054\n",
    "\n",
    "6. DecisionTreeClassifier 0.597363031233999\n",
    "\n",
    "### From the original notebook:\n",
    "https://www.kaggle.com/seaneuron/math-relax-prediction-with-different-classifiers\n",
    "\n",
    "1. RandomForestClassifier 0.661025241407\n",
    "\n",
    "2. SVC 0.632912741541\n",
    "\n",
    "3. GradientBoostingClassifier 0.620093471543\n",
    "\n",
    "4. ExtraTreesClassifier 0.616721153718\n",
    "\n",
    "5. KNeighborsClassifier 0.610764010965\n",
    "\n",
    "6. DecisionTreeClassifier 0.578443420379\n",
    "\n",
    "It should be noted that I used the same input parameters (n_estimators, min_samples_split, etc.) from the original notebook for my classification functions."
   ]
  },
  {
   "cell_type": "markdown",
   "metadata": {},
   "source": [
    "Comparing these results with mine, we see that the decision tree classifier ranked the lowest and the random forest classifier ranked the highest in both notebooks. This makes sense that this would be the order of the results as a random forest is a collection of decision trees, and therefore is expected to produce greater accuracy. \n",
    "However, the original notebook produces a cross validation scores of ~0.578 for its decision tree classification while I got a score of ~0.591 for my decision tree classification. Meanwhile, the original notebook scored its random forest classifier with a ~0.661 cross validation score while I recieved a ~0.680 for my random forest classifier. Looking at the results, my classifiers seemed to have scored better in general but also contain less variability than the results found in the original notebook.\n",
    "Also, the SVC and extra tree classifiers seemed to have traded spots for # 2 and 4 in our notebooks. Besides this though, my results seem to be somewhat expected.\n",
    "\n",
    "Something that surprised me was that the KNN algorithm scored relatively low in both notebooks. I found this interesting because I feel like KNN is the main classification algorithm taught in most machine learning classes, yet it doesn't seem to be very efficient or accurate. I think that this project has really encouraged me to learn more about other classification methods such as decision trees and SVC. \n",
    "\n",
    "This project has taught me that working with EEG data can be tricky. You always want to make sure that the dataset you're using a valid dataset published by people familiar with EEG in order to prevent mistakes such as classifying time. Additionally, as you can probably tell, the general cross validation scores produced here are not ideal.\n",
    "When looking through other notebooks such as https://www.kaggle.com/elsehow/classifying-relaxation-versus-doing-math, the results never seemed to be exemplary. This particular notebook seemed to hugely overfit the data and managed to yield 100% accuracy for some predictions. I find these results hard to believe considering I just tested 6 different classification methods and came nowhere near 100% accuracy. Although, this is just a problem in general. \n",
    "\n",
    "Overall, this project has taught me a lot about working with EEG data and the contrast that different classification algorithms can make."
   ]
  },
  {
   "cell_type": "code",
   "execution_count": 20,
   "metadata": {
    "scrolled": true
   },
   "outputs": [
    {
     "name": "stdout",
     "output_type": "stream",
     "text": [
      "KNeighborsClassifier 0.5943767165485804\n",
      "ExtraTreesClassifier 0.6337138045518721\n",
      "GradientBoostingClassifier 0.6006550566473556\n"
     ]
    }
   ],
   "source": [
    "# Just for fun\n",
    "knn2 = KNeighborsClassifier(n_neighbors=7)\n",
    "extree2 = ExtraTreesClassifier(n_estimators=7, max_depth=None, min_samples_split=2)\n",
    "grboost2 = GradientBoostingClassifier(n_estimators=7, learning_rate=1.0, max_depth=1)\n",
    "clfs2 = [knn2, extree2, grboost2]\n",
    "cv = StratifiedKFold(n_splits=7)\n",
    "for clf in clfs2:\n",
    "    print(type(clf).__name__, np.mean(cross_val_score(clf, xTrain, yTrain, cv=cv, scoring=\"roc_auc\", n_jobs=-1)))"
   ]
  },
  {
   "cell_type": "markdown",
   "metadata": {},
   "source": [
    "I would be interested in knowing why the extra trees classifier works better when n is decreased from 10 to 7."
   ]
  },
  {
   "cell_type": "markdown",
   "metadata": {},
   "source": []
  }
 ],
 "metadata": {
  "kernelspec": {
   "display_name": "Python 3",
   "language": "python",
   "name": "python3"
  },
  "language_info": {
   "codemirror_mode": {
    "name": "ipython",
    "version": 3
   },
   "file_extension": ".py",
   "mimetype": "text/x-python",
   "name": "python",
   "nbconvert_exporter": "python",
   "pygments_lexer": "ipython3",
   "version": "3.7.3"
  }
 },
 "nbformat": 4,
 "nbformat_minor": 2
}
